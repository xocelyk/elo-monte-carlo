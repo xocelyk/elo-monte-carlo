{
 "cells": [
  {
   "cell_type": "code",
   "execution_count": 8,
   "metadata": {},
   "outputs": [],
   "source": [
    "import numpy as np\n",
    "\n",
    "def softmax(ratings):\n",
    "    \"\"\" Compute the softmax of a list of numbers w. \"\"\"\n",
    "    e = np.exp(np.array(ratings))\n",
    "    dist = e / np.sum(e)\n",
    "    return dist\n",
    "\n",
    "def update_elo(winner_elo, loser_elo):\n",
    "    \"\"\" Update ELO ratings after a game. \"\"\"\n",
    "    winner_update = 0.1 * loser_elo\n",
    "    loser_update = 0.1 * (10 - winner_elo)\n",
    "    new_winner_elo = min(10, winner_elo + winner_update)\n",
    "    new_loser_elo = max(0, loser_elo - loser_update)\n",
    "    return new_winner_elo, new_loser_elo\n",
    "\n",
    "def simulate_season(initial_ratings, hot=True):\n",
    "    \"\"\" Simulate a season with given initial ratings. \"\"\"\n",
    "    ratings = initial_ratings.copy()\n",
    "    wins = [0] * len(ratings)\n",
    "\n",
    "    for _ in range(100):  # 100 games in a season\n",
    "        # Randomly select two different teams\n",
    "        teams = np.random.choice(len(ratings), 2, replace=False)\n",
    "        win_prob = softmax([ratings[teams[0]], ratings[teams[1]]])\n",
    "\n",
    "        # Determine the winner\n",
    "        winner = teams[0] if np.random.rand() < win_prob[0] else teams[1]\n",
    "        loser = teams[1] if winner == teams[0] else teams[0]\n",
    "\n",
    "        # Update win count\n",
    "        wins[winner] += 1\n",
    "\n",
    "        # Update ratings if it's a hot simulation\n",
    "        if hot:\n",
    "            ratings[winner], ratings[loser] = update_elo(ratings[winner], ratings[loser])\n",
    "\n",
    "        teams2 = [i for i in range(len(ratings)) if i not in teams]\n",
    "        win_prob2 = softmax([ratings[teams2[0]], ratings[teams2[1]]])\n",
    "\n",
    "        # Determine the winner\n",
    "        winner2 = teams2[0] if np.random.rand() < win_prob2[0] else teams2[1]\n",
    "        loser2 = teams2[1] if winner2 == teams2[0] else teams2[0]\n",
    "\n",
    "        # Update win count\n",
    "        wins[winner2] += 1\n",
    "\n",
    "        # Update ratings if it's a hot simulation\n",
    "        if hot:\n",
    "            ratings[winner2], ratings[loser2] = update_elo(ratings[winner2], ratings[loser2])\n",
    "    \n",
    "\n",
    "    return wins\n",
    "\n",
    "def run_simulations(num_simulations=100):\n",
    "    \"\"\" Run multiple simulations and compare static vs hot simulations. \"\"\"\n",
    "    initial_ratings = [2, 4, 6, 8]  # Initial ratings of the teams\n",
    "    static_wins = np.zeros((num_simulations, len(initial_ratings)))\n",
    "    hot_wins = np.zeros((num_simulations, len(initial_ratings)))\n",
    "\n",
    "    for i in range(num_simulations):\n",
    "        static_wins[i] = simulate_season(initial_ratings, hot=False)\n",
    "        hot_wins[i] = simulate_season(initial_ratings, hot=True)\n",
    "\n",
    "    return static_wins, hot_wins\n",
    "\n",
    "# Run the simulations\n",
    "num_simulations = 100\n",
    "static_wins, hot_wins = run_simulations(num_simulations=num_simulations)\n",
    "\n"
   ]
  },
  {
   "cell_type": "code",
   "execution_count": 9,
   "metadata": {},
   "outputs": [
    {
     "data": {
      "text/plain": [
       "(array([ 4.8 , 33.45, 66.5 , 95.25]), array([13.2 , 24.2 , 73.73, 88.87]))"
      ]
     },
     "execution_count": 9,
     "metadata": {},
     "output_type": "execute_result"
    }
   ],
   "source": [
    "static_wins.mean(axis=0), hot_wins.mean(axis=0)"
   ]
  },
  {
   "cell_type": "code",
   "execution_count": 10,
   "metadata": {},
   "outputs": [
    {
     "data": {
      "text/plain": [
       "(array([1.92353841, 4.72731425, 4.70212718, 2.333988  ]),\n",
       " array([ 7.51797845, 12.12682976, 14.78367681,  5.87648705]))"
      ]
     },
     "execution_count": 10,
     "metadata": {},
     "output_type": "execute_result"
    }
   ],
   "source": [
    "static_wins.std(axis=0), hot_wins.std(axis=0)"
   ]
  },
  {
   "cell_type": "code",
   "execution_count": null,
   "metadata": {},
   "outputs": [],
   "source": []
  }
 ],
 "metadata": {
  "kernelspec": {
   "display_name": "Python 3",
   "language": "python",
   "name": "python3"
  },
  "language_info": {
   "codemirror_mode": {
    "name": "ipython",
    "version": 3
   },
   "file_extension": ".py",
   "mimetype": "text/x-python",
   "name": "python",
   "nbconvert_exporter": "python",
   "pygments_lexer": "ipython3",
   "version": "3.11.1"
  }
 },
 "nbformat": 4,
 "nbformat_minor": 2
}
